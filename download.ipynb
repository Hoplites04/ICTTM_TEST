{
 "cells": [
  {
   "cell_type": "code",
   "execution_count": null,
   "id": "df66d2b7-dc47-4ba9-946a-66f4115db97a",
   "metadata": {},
   "outputs": [],
   "source": [
    "%pip install boto3\n",
    "# Libraries maybe you need to install in your environment to use selenium and chromedriver below\n",
    "%pip install selenium chromedriver-binary"
   ]
  },
  {
   "cell_type": "code",
   "execution_count": 8,
   "id": "3974bf50-fdc8-4e10-ba49-69bef9a29de3",
   "metadata": {},
   "outputs": [],
   "source": [
    "from selenium import webdriver\n",
    "from selenium.webdriver.common.by import By\n",
    "from zipfile import ZipFile \n",
    "import time\n",
    "import os\n",
    "import boto3"
   ]
  },
  {
   "cell_type": "code",
   "execution_count": 9,
   "id": "f36a1ad5-3494-46aa-bb8d-93fd40828aa5",
   "metadata": {},
   "outputs": [],
   "source": [
    "#Downloading data.zip from Google Drive via Chrome \n",
    "\n",
    "options = webdriver.ChromeOptions();\n",
    "driver = webdriver.Chrome();\n",
    "driver.maximize_window()\n",
    "driver.get('https://drive.google.com/drive/folders/1EImvKyUQ_iJCfd2h-Dxjn_sqPyDV5tFC');\n",
    "driver.find_element(By.CLASS_NAME,\"wFZ5se\").click();    \n",
    "time.sleep(10)"
   ]
  },
  {
   "cell_type": "code",
   "execution_count": 10,
   "id": "44492468-d52c-4db7-8eee-cb2b195e5997",
   "metadata": {},
   "outputs": [],
   "source": [
    "# Unzip the data.zip to get files\n",
    "\n",
    "with ZipFile(\"C:\\\\Users\\\\chien\\Downloads\\\\data.zip\", 'r') as zObject:\n",
    "    zObject.extractall(path=\"C:\\\\Users\\\\chien\\\\Downloads\")\n",
    "\n",
    "time.sleep(10)"
   ]
  },
  {
   "cell_type": "code",
   "execution_count": 11,
   "id": "14ee98f9-7242-4f0d-ae64-c816cca03d1d",
   "metadata": {},
   "outputs": [],
   "source": [
    "# I have created an Users and Acess Key\n",
    "\n",
    "obj_storage_access_key = os.getenv('OBJ_STORAGE_ACCESS_KEY', 'uZCPe6xoPsMQymYaBwPk')\n",
    "obj_storage_secret_key = os.getenv('OBJ_STORAGE_SECRET_KEY', 'iLA2wO10sexC0RzUHodV0xUpTqXPFJnfubXFGJBt')\n",
    "obj_storage_endpoint = os.getenv('OBJ_STORAGE_ENDPOINT', 'http://localhost:9000')"
   ]
  },
  {
   "cell_type": "code",
   "execution_count": 6,
   "id": "3f1a6c0d-4f65-4450-87da-32dff3513da1",
   "metadata": {},
   "outputs": [],
   "source": [
    "def upload_file_to_minio(file_path, minio_bucket, minio_object_name):\n",
    "    s3c = boto3.resource('s3',\n",
    "                        endpoint_url=obj_storage_endpoint,\n",
    "                        aws_access_key_id=obj_storage_access_key,\n",
    "                        aws_secret_access_key=obj_storage_secret_key,\n",
    "                        config=boto3.session.Config(signature_version='s3v4'),\n",
    "                        verify=False\n",
    "                        )\n",
    "    s3c.Bucket(minio_bucket).upload_file(file_path, minio_object_name)"
   ]
  },
  {
   "cell_type": "code",
   "execution_count": 12,
   "id": "784b3fef-6ec4-4bde-bc1a-6118bb04b7ac",
   "metadata": {},
   "outputs": [],
   "source": [
    "#Uploading files to MinIO\n",
    "\n",
    "upload_file_to_minio('C:/Users/chien/Downloads/data.json', 'data', 'data-raw/data.json')\n",
    "upload_file_to_minio('C:/Users/chien/Downloads/data2.json', 'data', 'data-raw/data2.json')\n",
    "upload_file_to_minio('C:/Users/chien/Downloads/data3.json', 'data', 'data-raw/data3.json')"
   ]
  },
  {
   "cell_type": "code",
   "execution_count": null,
   "id": "5d28274f-4542-43e1-93b5-93d0e7be13c8",
   "metadata": {},
   "outputs": [],
   "source": []
  }
 ],
 "metadata": {
  "kernelspec": {
   "display_name": "Python 3 (ipykernel)",
   "language": "python",
   "name": "python3"
  },
  "language_info": {
   "codemirror_mode": {
    "name": "ipython",
    "version": 3
   },
   "file_extension": ".py",
   "mimetype": "text/x-python",
   "name": "python",
   "nbconvert_exporter": "python",
   "pygments_lexer": "ipython3",
   "version": "3.11.5"
  }
 },
 "nbformat": 4,
 "nbformat_minor": 5
}
